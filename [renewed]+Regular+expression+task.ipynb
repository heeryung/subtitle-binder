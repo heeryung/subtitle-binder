{
 "cells": [
  {
   "cell_type": "markdown",
   "metadata": {
    "description": "A renewed regular expression for Doug study",
    "editable": false,
    "license": "CC0",
    "mentor_academy_cell_type": "question_description",
    "name": "[renewed] Regular expression task",
    "partlist_id": "perqyeyr",
    "publish_status": "published",
    "question_id": "ospsswkw",
    "submit": "no",
    "type": "prologue"
   },
   "source": [
    "# Question \n",
    "Here are some post-test on what you've learned from the lecture video.\n",
    "When you are done with the task, please submit the notebook by clicking 'Submit My Solution button (the blue button)' on the menu bar. You have 10 minutes to work on. The timer on the menu bar will tell you how much time is left.\n",
    "Let's start with loading all the datasets we need. \n"
   ]
  },
  {
   "cell_type": "code",
   "execution_count": 1,
   "metadata": {
    "editable": false,
    "mentor_academy_cell_type": "question_code",
    "question_id": "ospsswkw",
    "type": "stub"
   },
   "outputs": [],
   "source": [
    "import re\n"
   ]
  },
  {
   "cell_type": "markdown",
   "metadata": {
    "dataset_id": "mzxiuaiw",
    "dataset_order": 1,
    "editable": false,
    "mentor_academy_cell_type": "dataset_description",
    "type": "prologue"
   },
   "source": [
    "# Loading datasets\n"
   ]
  },
  {
   "cell_type": "code",
   "execution_count": 2,
   "metadata": {
    "dataset_id": "mzxiuaiw",
    "dataset_order": 1,
    "editable": false,
    "mentor_academy_cell_type": "dataset_code",
    "type": "stub"
   },
   "outputs": [],
   "source": [
    "from urllib.request import urlopen\n",
    "\n",
    "grade_link = \"https://raw.githubusercontent.com/heeryung/doug-questions/master/data/grades.txt\"\n",
    "txt = urlopen(grade_link)\n",
    "txt = txt.read()\n",
    "grades = txt.decode(\"utf-8\")\n"
   ]
  },
  {
   "cell_type": "markdown",
   "metadata": {
    "editable": false,
    "if_hint": false,
    "mentor_academy_cell_type": "part_description",
    "part_id": "mkdezjhr",
    "part_order": 2,
    "type": "prologue"
   },
   "source": [
    "### Part 2: student grades\n",
    "This variable 'grades' is a string that contains multiple lines of people along with their grades in a class. Create a regex to generate a list of just those students who received a B in the course. If you cannot come up with a complete, runnable code, please explain your best guess in comments (e.g., #run print('answer') ). \n"
   ]
  },
  {
   "cell_type": "code",
   "execution_count": null,
   "metadata": {
    "if_hint": false,
    "mentor_academy_cell_type": "part_student_solution_code",
    "part_id": "mkdezjhr",
    "part_order": 2,
    "type": "stub"
   },
   "outputs": [],
   "source": [
    "def student_grades():\n",
    "    \n",
    "    print (grades)\n",
    "        \n",
    "    ### BEGIN SOLUTION\n",
    "\n",
    "   ### END SOLUTION\n",
    "student_grades()"
   ]
  }
 ],
 "metadata": {
  "anaconda-cloud": {},
  "kernelspec": {
   "display_name": "Python 3",
   "language": "python",
   "name": "python3"
  },
  "language_info": {
   "codemirror_mode": {
    "name": "ipython",
    "version": 3
   },
   "file_extension": ".py",
   "mimetype": "text/x-python",
   "name": "python",
   "nbconvert_exporter": "python",
   "pygments_lexer": "ipython3",
   "version": "3.7.3"
  },
  "umich": {
   "submit": "yes"
  }
 },
 "nbformat": 4,
 "nbformat_minor": 1
}
