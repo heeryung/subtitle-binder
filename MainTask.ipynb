{
 "cells": [
  {
   "cell_type": "markdown",
   "metadata": {
    "deletable": false,
    "description": "",
    "editable": false,
    "hideCode": false,
    "hidePrompt": false,
    "license": "CC0",
    "mentor_academy_cell_type": "question_description",
    "name": "MainTask",
    "nbgrader": {
     "checksum": "771ad8a0171057d40446dd9c5f23ca54",
     "grade": false,
     "grade_id": "cell-f0eee5d2e32b2f4c",
     "locked": true,
     "schema_version": 1,
     "solution": false
    },
    "partlist_id": "jgbshzqq",
    "publish_status": "published",
    "question_id": "qjzvdelg",
    "submit": "yes",
    "type": "prologue"
   },
   "source": [
    "# Main task\n",
    "Let's start with loading the library we need."
   ]
  },
  {
   "cell_type": "code",
   "execution_count": null,
   "metadata": {
    "hideCode": false,
    "hidePrompt": false,
    "mentor_academy_cell_type": "question_code",
    "question_id": "qjzvdelg",
    "type": "stub"
   },
   "outputs": [],
   "source": [
    "import re"
   ]
  },
  {
   "cell_type": "markdown",
   "metadata": {
    "deletable": false,
    "editable": false,
    "if_hint":false,
    "hideCode": false,
    "hidePrompt": false,
    "mentor_academy_cell_type": "part_description",
    "nbgrader": {
     "checksum": "07d44e4e63b107ef422c4b33add5b2b9",
     "grade": false,
     "grade_id": "cell-2c284add87475b7d",
     "locked": true,
     "schema_version": 1,
     "solution": false
    },
    "part_id": "zjxtnfya",
    "part_order": 1,
    "type": "stub"
   },
   "source": [
    "### Part 1: names"
   ]
  },
  {
   "cell_type": "code",
   "execution_count": null,
   "metadata": {
    "if_hint":true,
    "deletable": false,
    "hideCode": false,
    "hidePrompt": false,
    "mentor_academy_cell_type": "part_student_solution_code",
    "nbgrader": {
     "checksum": "b7e4b22ac5c111416cc32f74d52d329c",
     "grade": false,
     "grade_id": "cell-9093ba874d8b728b",
     "locked": false,
     "schema_version": 1,
     "solution": true
    },
    "part_id": "zjxtnfya",
    "part_order": 1,
    "type": "stub"
   },
   "outputs": [],
   "source": [
    "def names():\n",
    "    simple_string = \"\"\"Amy is 5 years old, and her sister Mary is 2 years old. \n",
    "    Ruth and Peter, their parents, have 3 kids.\"\"\"\n",
    "\n",
    "    \n",
    "    # YOUR CODE HERE\n",
    "\n",
    "names()"
   ]
  },
  {
   "cell_type": "code",
   "execution_count": null,
   "metadata": {
    "deletable": false,
    "editable": false,
    "hideCode": true,
    "hidePrompt": false,
    "mentor_academy_cell_type": "part_sample_solution_code",
    "nbgrader": {
     "checksum": "1940bbdec98934026e63ca34b0c72316",
     "grade": true,
     "grade_id": "cell-b4abb40ddaf85113",
     "locked": true,
     "points": 1,
     "schema_version": 1,
     "solution": false
    },
    "part_id": "zjxtnfya",
    "part_order": 1,
    "solution": "True",
    "type": "stub"
   },
   "outputs": [],
   "source": [
    "### Please do not type anything in this cell.\n",
    "assert len(names()) == 4, \"There are four names in the simple_string\"\n",
    "assert ((len(names()[0])>2)&(len(names()[0])>2)&(len(names()[0])>2)&(len(names()[0])>2)) == True, \"Please match all the characters in these names.\"\n",
    "assert ('Amy' in names())== True\n",
    "assert ('Mary' in names())== True\n",
    "assert ('Ruth' in names())== True\n",
    "assert ('Peter' in names())== True\n"
   ]
  },
  {
   "cell_type": "markdown",
   "metadata": {
    "deletable": false,
    "editable": false,
    "hideCode": false,
    "hidePrompt": false,
    "mentor_academy_cell_type": "part_description",
    "nbgrader": {
     "checksum": "46e110c1caaa4e1281302cd4839d74e7",
     "grade": false,
     "grade_id": "cell-90f9f2c7fda1a6ca",
     "locked": true,
     "schema_version": 1,
     "solution": false
    },
    "part_id": "buysqpzg",
    "part_order": 2,
    "type": "stub"
   },
   "source": [
    "### Part 2: student grades\n",
    "The dataset file in assets/grades.txt contains multiple lines of people along with their grades in a class. Create a regex to generate a list of just those students who received a B in the course."
   ]
  },
  {
   "cell_type": "code",
   "execution_count": null,
   "metadata": {
    "deletable": false,
    "if_hint":true,
    "hideCode": false,
    "hidePrompt": false,
    "mentor_academy_cell_type": "part_student_solution_code",
    "nbgrader": {
     "checksum": "2ced9b3ec34f1b87074ef83e4842361a",
     "grade": false,
     "grade_id": "cell-1f815af992a50638",
     "locked": false,
     "schema_version": 1,
     "solution": true
    },
    "part_id": "buysqpzg",
    "part_order": 2,
    "type": "stub"
   },
   "outputs": [],
   "source": [
    "def student_grades():\n",
    "    with open (\"assets/grades.txt\", \"r\") as file:\n",
    "        grades = file.read()\n",
    "    \n",
    "    # YOUR CODE HERE\n",
    "\n",
    "student_grades()"
   ]
  },
  {
   "cell_type": "code",
   "execution_count": null,
   "metadata": {
    "deletable": false,
    "editable": false,
    "hideCode": true,
    "hidePrompt": false,
    "mentor_academy_cell_type": "part_sample_solution_code",
    "nbgrader": {
     "checksum": "7bf07d9733e724f09d3834b6b78a969d",
     "grade": true,
     "grade_id": "cell-06db205fa3b40c65",
     "locked": true,
     "points": 1,
     "schema_version": 1,
     "solution": false
    },
    "part_id": "buysqpzg",
    "part_order": 2,
    "solution": "True",
    "type": "stub"
   },
   "outputs": [],
   "source": [
    "### Please do not type anything in this cell.\n",
    "assert len(student_grades()) == 16\n",
    "name_list = ['Bell Kassulke',\n",
    " 'Simon Loidl',\n",
    " 'Elias Jovanovic',\n",
    " 'Hakim Botros',\n",
    " 'Emilie Lorentsen',\n",
    " 'Jake Wood',\n",
    " 'Fatemeh Akhtar',\n",
    " 'Kim Weston',\n",
    " 'Yasmin Dar',\n",
    " 'Viswamitra Upandhye',\n",
    " 'Killian Kaufman',\n",
    " 'Elwood Page',\n",
    " 'Elodie Booker',\n",
    " 'Adnan Chen',\n",
    " 'Hank Spinka',\n",
    " 'Hannah Bayer']\n",
    "\n",
    "assert (': B' in student_grades()[1]) == False, \"Please only return student names.\"\n",
    "assert ('Kassulke' in student_grades()) == False, \"Please return students' full name.\"\n",
    "for name in name_list:\n",
    "    assert (name in student_grades())== True, \"Check your name list.\"\n"
   ]
  },
  {
   "cell_type": "markdown",
   "metadata": {
    "deletable": false,
    "editable": false,
    "if_hint": false,
    "hideCode": false,
    "hidePrompt": false,
    "mentor_academy_cell_type": "part_description",
    "nbgrader": {
     "checksum": "687c1ac9e348bb93763341cf5d1169e7",
     "grade": false,
     "grade_id": "cell-ffe197b029760bf9",
     "locked": true,
     "schema_version": 1,
     "solution": false
    },
    "part_id": "jjslfdps",
    "part_order": 3,
    "type": "stub"
   },
   "source": [
    "### Part 3: logs\n",
    "Consider the variable 'logdata' which is a string containing a standard web log. This variable records the access a user makes when visiting a web page (like this one!). Each line of the log has the following items: \n",
    "\n",
    "* a host (e.g., ‘146.204.224.152’) \n",
    "* a user (e.g., ‘feest6811’) \n",
    "* the time a request was made (e.g., ‘21/Jun/2019:15:45:24 -0700’) \n",
    "* the post request type (e.g., ‘POST /incentivize HTTP/1.1’)\n",
    "\n",
    "Your task is to convert this into a list of dictionaries, where each dictionary looks like the following:\n",
    "\n",
    "```\n",
    "example_dict = {\"host\":\"146.204.224.152\",\n",
    "                \"user\":\"feest6811\",\n",
    "                \"time\":\"21/Jun/2019:15:45:24 -0700\",\n",
    "                \"request\":\"POST /incentivize HTTP/1.1\"}\n",
    "```\n",
    "\n"
   ]
  },
  {
   "cell_type": "code",
   "execution_count": null,
   "metadata": {
    "deletable": false,
    "if_hint": true,
    "hideCode": false,
    "hidePrompt": false,
    "mentor_academy_cell_type": "part_student_solution_code",
    "nbgrader": {
     "checksum": "8b2ac379ee53d2776c6c6905068d71e3",
     "grade": false,
     "grade_id": "cell-b0fa9dbee5089ac9",
     "locked": false,
     "schema_version": 1,
     "solution": true
    },
    "part_id": "jjslfdps",
    "part_order": 3,
    "type": "stub"
   },
   "outputs": [],
   "source": [
    "import re\n",
    "def logs():\n",
    "    with open(\"assets/logdata.txt\", \"r\") as file:\n",
    "        logdata = file.read()\n",
    "    \n",
    "    # YOUR CODE HERE\n",
    "\n",
    "logs()"
   ]
  },
  {
   "cell_type": "code",
   "execution_count": null,
   "metadata": {
    "deletable": false,
    "editable": false,
    "hideCode": true,
    "hidePrompt": false,
    "mentor_academy_cell_type": "part_sample_solution_code",
    "nbgrader": {
     "checksum": "87249a07de0632485b85f30bac6c74a0",
     "grade": true,
     "grade_id": "cell-ca9d4edf008ce4ff",
     "locked": true,
     "points": 1,
     "schema_version": 1,
     "solution": false
    },
    "part_id": "jjslfdps",
    "part_order": 3,
    "solution": "True",
    "type": "stub"
   },
   "outputs": [],
   "source": [
    "### Please do not type anything in this cell.\n",
    "assert len(logs()) == 979\n",
    "\n",
    "one_item={'host': '146.204.224.152',\n",
    "  'user_name': 'feest6811',\n",
    "  'time': '21/Jun/2019:15:45:24 -0700',\n",
    "  'request': 'POST /incentivize HTTP/1.1'}\n",
    "assert one_item in logs(), \"Sorry, this item should be in the log results, check your formating\"\n",
    "\n",
    "assert len(logs()[0:1][0])==4, \"Make sure that each of your dictionary is in the right format. \"\n",
    "\n",
    "tmp3 = [{'host': '146.204.224.152',\n",
    "  'user_name': 'feest6811',\n",
    "  'time': '21/Jun/2019:15:45:24 -0700',\n",
    "  'request': 'POST /incentivize HTTP/1.1'},\n",
    " {'host': '98.143.107.61',\n",
    "  'user_name': 'reilly5813',\n",
    "  'time': '21/Jun/2019:15:54:04 -0700',\n",
    "  'request': 'HEAD /channels HTTP/1.1'},\n",
    " {'host': '93.88.34.132',\n",
    "  'user_name': '-',\n",
    "  'time': '21/Jun/2019:15:49:04 -0700',\n",
    "  'request': 'POST /24%2f365 HTTP/2.0'},\n",
    " {'host': '100.32.205.59',\n",
    "  'user_name': 'ortiz8891',\n",
    "  'time': '21/Jun/2019:15:45:28 -0700',\n",
    "  'request': 'PATCH /architectures HTTP/1.0'},\n",
    " {'host': '168.95.156.240',\n",
    "  'user_name': 'stark2413',\n",
    "  'time': '21/Jun/2019:15:45:31 -0700',\n",
    "  'request': 'GET /engage HTTP/2.0'},\n",
    " {'host': '72.157.89.10',\n",
    "  'user_name': '-',\n",
    "  'time': '21/Jun/2019:15:47:14 -0700',\n",
    "  'request': 'PATCH /clicks-and-mortar/metrics HTTP/1.0'},\n",
    " {'host': '180.95.121.94',\n",
    "  'user_name': 'mohr6893',\n",
    "  'time': '21/Jun/2019:15:45:34 -0700',\n",
    "  'request': 'PATCH /extensible/reinvent HTTP/1.1'},\n",
    " {'host': '144.23.247.108',\n",
    "  'user_name': 'auer7552',\n",
    "  'time': '21/Jun/2019:15:45:35 -0700',\n",
    "  'request': 'POST /extensible/infrastructures/one-to-one/enterprise HTTP/1.1'},\n",
    " {'host': '180.234.185.134',\n",
    "  'user_name': 'windler5463',\n",
    "  'time': '21/Jun/2019:15:46:34 -0700',\n",
    "  'request': 'POST /synergies/innovative/enterprise HTTP/1.1'},\n",
    " {'host': '233.187.15.207',\n",
    "  'user_name': '-',\n",
    "  'time': '21/Jun/2019:15:46:14 -0700',\n",
    "  'request': 'GET /harness/intuitive HTTP/1.0'}]\n",
    "\n",
    "for dic in tmp3:\n",
    "    assert dic in logs(), \"Please include all the records\"\n"
   ]
  }
 ],
 "metadata": {
  "anaconda-cloud": {},
  "hide_code_all_hidden": false,
  "kernelspec": {
   "display_name": "Python 3",
   "language": "python",
   "name": "python3"
  },
  "language_info": {
   "codemirror_mode": {
    "name": "ipython",
    "version": 3
   },
   "file_extension": ".py",
   "mimetype": "text/x-python",
   "name": "python",
   "nbconvert_exporter": "python",
   "pygments_lexer": "ipython3",
   "version": "3.7.3"
  },
  "umich": {
   "id": "Assignment 2",
   "version": "1.2",
   "submit": "yes"
  }
 },
 "nbformat": 4,
 "nbformat_minor": 1
}
